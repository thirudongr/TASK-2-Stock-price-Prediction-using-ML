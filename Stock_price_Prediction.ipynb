{
  "nbformat": 4,
  "nbformat_minor": 0,
  "metadata": {
    "colab": {
      "provenance": [],
      "authorship_tag": "ABX9TyOhs1E7SMRQwlP4wIILloYg",
      "include_colab_link": true
    },
    "kernelspec": {
      "name": "python3",
      "display_name": "Python 3"
    },
    "language_info": {
      "name": "python"
    }
  },
  "cells": [
    {
      "cell_type": "markdown",
      "metadata": {
        "id": "view-in-github",
        "colab_type": "text"
      },
      "source": [
        "<a href=\"https://colab.research.google.com/github/thirudongr/TASK2-Stock-price-Prediction/blob/main/Stock_price_Prediction.ipynb\" target=\"_parent\"><img src=\"https://colab.research.google.com/assets/colab-badge.svg\" alt=\"Open In Colab\"/></a>"
      ]
    },
    {
      "cell_type": "markdown",
      "source": [
        "1. Importing the Libraries"
      ],
      "metadata": {
        "id": "YwtvnAHbCLZq"
      }
    },
    {
      "cell_type": "code",
      "execution_count": 1,
      "metadata": {
        "id": "ZFdrf4VX_Vho"
      },
      "outputs": [],
      "source": [
        "import math\n",
        "import keras\n",
        "import pandas as pd\n",
        "import numpy as np\n",
        "import matplotlib.pyplot as plt\n",
        "from keras.models import Sequential\n",
        "from keras.layers import Dense\n",
        "from keras.layers import LSTM\n",
        "from keras.layers import Dropout\n",
        "from keras.layers import *\n",
        "from sklearn.preprocessing import MinMaxScaler\n",
        "from sklearn.metrics import mean_squared_error\n",
        "from sklearn.metrics import mean_absolute_error\n",
        "from sklearn.model_selection import train_test_split\n",
        "from keras.callbacks import EarlyStopping\n",
        ""
      ]
    },
    {
      "cell_type": "markdown",
      "source": [
        "2. Loading Dataset"
      ],
      "metadata": {
        "id": "R4WQ-O1zCT_-"
      }
    },
    {
      "cell_type": "code",
      "source": [
        "stock_data = pd.read_csv(\"/content/archive.zip\")\n",
        "stock_data.head()"
      ],
      "metadata": {
        "colab": {
          "base_uri": "https://localhost:8080/",
          "height": 206
        },
        "id": "bfUnF0ob_c6X",
        "outputId": "0cfb4b1f-6f03-4476-f8e9-65fba0f6406e"
      },
      "execution_count": 2,
      "outputs": [
        {
          "output_type": "execute_result",
          "data": {
            "text/plain": [
              "         Date    Open    High     Low    Last   Close  Total Trade Quantity  \\\n",
              "0  2018-10-08  208.00  222.25  206.85  216.00  215.15             4642146.0   \n",
              "1  2018-10-05  217.00  218.60  205.90  210.25  209.20             3519515.0   \n",
              "2  2018-10-04  223.50  227.80  216.15  217.25  218.20             1728786.0   \n",
              "3  2018-10-03  230.00  237.50  225.75  226.45  227.60             1708590.0   \n",
              "4  2018-10-01  234.55  234.60  221.05  230.30  230.90             1534749.0   \n",
              "\n",
              "   Turnover (Lacs)  \n",
              "0         10062.83  \n",
              "1          7407.06  \n",
              "2          3815.79  \n",
              "3          3960.27  \n",
              "4          3486.05  "
            ],
            "text/html": [
              "\n",
              "\n",
              "  <div id=\"df-00b128af-8a20-47bb-b31f-c17ec7dca230\">\n",
              "    <div class=\"colab-df-container\">\n",
              "      <div>\n",
              "<style scoped>\n",
              "    .dataframe tbody tr th:only-of-type {\n",
              "        vertical-align: middle;\n",
              "    }\n",
              "\n",
              "    .dataframe tbody tr th {\n",
              "        vertical-align: top;\n",
              "    }\n",
              "\n",
              "    .dataframe thead th {\n",
              "        text-align: right;\n",
              "    }\n",
              "</style>\n",
              "<table border=\"1\" class=\"dataframe\">\n",
              "  <thead>\n",
              "    <tr style=\"text-align: right;\">\n",
              "      <th></th>\n",
              "      <th>Date</th>\n",
              "      <th>Open</th>\n",
              "      <th>High</th>\n",
              "      <th>Low</th>\n",
              "      <th>Last</th>\n",
              "      <th>Close</th>\n",
              "      <th>Total Trade Quantity</th>\n",
              "      <th>Turnover (Lacs)</th>\n",
              "    </tr>\n",
              "  </thead>\n",
              "  <tbody>\n",
              "    <tr>\n",
              "      <th>0</th>\n",
              "      <td>2018-10-08</td>\n",
              "      <td>208.00</td>\n",
              "      <td>222.25</td>\n",
              "      <td>206.85</td>\n",
              "      <td>216.00</td>\n",
              "      <td>215.15</td>\n",
              "      <td>4642146.0</td>\n",
              "      <td>10062.83</td>\n",
              "    </tr>\n",
              "    <tr>\n",
              "      <th>1</th>\n",
              "      <td>2018-10-05</td>\n",
              "      <td>217.00</td>\n",
              "      <td>218.60</td>\n",
              "      <td>205.90</td>\n",
              "      <td>210.25</td>\n",
              "      <td>209.20</td>\n",
              "      <td>3519515.0</td>\n",
              "      <td>7407.06</td>\n",
              "    </tr>\n",
              "    <tr>\n",
              "      <th>2</th>\n",
              "      <td>2018-10-04</td>\n",
              "      <td>223.50</td>\n",
              "      <td>227.80</td>\n",
              "      <td>216.15</td>\n",
              "      <td>217.25</td>\n",
              "      <td>218.20</td>\n",
              "      <td>1728786.0</td>\n",
              "      <td>3815.79</td>\n",
              "    </tr>\n",
              "    <tr>\n",
              "      <th>3</th>\n",
              "      <td>2018-10-03</td>\n",
              "      <td>230.00</td>\n",
              "      <td>237.50</td>\n",
              "      <td>225.75</td>\n",
              "      <td>226.45</td>\n",
              "      <td>227.60</td>\n",
              "      <td>1708590.0</td>\n",
              "      <td>3960.27</td>\n",
              "    </tr>\n",
              "    <tr>\n",
              "      <th>4</th>\n",
              "      <td>2018-10-01</td>\n",
              "      <td>234.55</td>\n",
              "      <td>234.60</td>\n",
              "      <td>221.05</td>\n",
              "      <td>230.30</td>\n",
              "      <td>230.90</td>\n",
              "      <td>1534749.0</td>\n",
              "      <td>3486.05</td>\n",
              "    </tr>\n",
              "  </tbody>\n",
              "</table>\n",
              "</div>\n",
              "      <button class=\"colab-df-convert\" onclick=\"convertToInteractive('df-00b128af-8a20-47bb-b31f-c17ec7dca230')\"\n",
              "              title=\"Convert this dataframe to an interactive table.\"\n",
              "              style=\"display:none;\">\n",
              "\n",
              "  <svg xmlns=\"http://www.w3.org/2000/svg\" height=\"24px\"viewBox=\"0 0 24 24\"\n",
              "       width=\"24px\">\n",
              "    <path d=\"M0 0h24v24H0V0z\" fill=\"none\"/>\n",
              "    <path d=\"M18.56 5.44l.94 2.06.94-2.06 2.06-.94-2.06-.94-.94-2.06-.94 2.06-2.06.94zm-11 1L8.5 8.5l.94-2.06 2.06-.94-2.06-.94L8.5 2.5l-.94 2.06-2.06.94zm10 10l.94 2.06.94-2.06 2.06-.94-2.06-.94-.94-2.06-.94 2.06-2.06.94z\"/><path d=\"M17.41 7.96l-1.37-1.37c-.4-.4-.92-.59-1.43-.59-.52 0-1.04.2-1.43.59L10.3 9.45l-7.72 7.72c-.78.78-.78 2.05 0 2.83L4 21.41c.39.39.9.59 1.41.59.51 0 1.02-.2 1.41-.59l7.78-7.78 2.81-2.81c.8-.78.8-2.07 0-2.86zM5.41 20L4 18.59l7.72-7.72 1.47 1.35L5.41 20z\"/>\n",
              "  </svg>\n",
              "      </button>\n",
              "\n",
              "\n",
              "\n",
              "    <div id=\"df-f4c46a43-a006-4024-a23a-66b57301d5f8\">\n",
              "      <button class=\"colab-df-quickchart\" onclick=\"quickchart('df-f4c46a43-a006-4024-a23a-66b57301d5f8')\"\n",
              "              title=\"Suggest charts.\"\n",
              "              style=\"display:none;\">\n",
              "\n",
              "<svg xmlns=\"http://www.w3.org/2000/svg\" height=\"24px\"viewBox=\"0 0 24 24\"\n",
              "     width=\"24px\">\n",
              "    <g>\n",
              "        <path d=\"M19 3H5c-1.1 0-2 .9-2 2v14c0 1.1.9 2 2 2h14c1.1 0 2-.9 2-2V5c0-1.1-.9-2-2-2zM9 17H7v-7h2v7zm4 0h-2V7h2v10zm4 0h-2v-4h2v4z\"/>\n",
              "    </g>\n",
              "</svg>\n",
              "      </button>\n",
              "    </div>\n",
              "\n",
              "<style>\n",
              "  .colab-df-quickchart {\n",
              "    background-color: #E8F0FE;\n",
              "    border: none;\n",
              "    border-radius: 50%;\n",
              "    cursor: pointer;\n",
              "    display: none;\n",
              "    fill: #1967D2;\n",
              "    height: 32px;\n",
              "    padding: 0 0 0 0;\n",
              "    width: 32px;\n",
              "  }\n",
              "\n",
              "  .colab-df-quickchart:hover {\n",
              "    background-color: #E2EBFA;\n",
              "    box-shadow: 0px 1px 2px rgba(60, 64, 67, 0.3), 0px 1px 3px 1px rgba(60, 64, 67, 0.15);\n",
              "    fill: #174EA6;\n",
              "  }\n",
              "\n",
              "  [theme=dark] .colab-df-quickchart {\n",
              "    background-color: #3B4455;\n",
              "    fill: #D2E3FC;\n",
              "  }\n",
              "\n",
              "  [theme=dark] .colab-df-quickchart:hover {\n",
              "    background-color: #434B5C;\n",
              "    box-shadow: 0px 1px 3px 1px rgba(0, 0, 0, 0.15);\n",
              "    filter: drop-shadow(0px 1px 2px rgba(0, 0, 0, 0.3));\n",
              "    fill: #FFFFFF;\n",
              "  }\n",
              "</style>\n",
              "\n",
              "    <script>\n",
              "      async function quickchart(key) {\n",
              "        const containerElement = document.querySelector('#' + key);\n",
              "        const charts = await google.colab.kernel.invokeFunction(\n",
              "            'suggestCharts', [key], {});\n",
              "      }\n",
              "    </script>\n",
              "\n",
              "      <script>\n",
              "\n",
              "function displayQuickchartButton(domScope) {\n",
              "  let quickchartButtonEl =\n",
              "    domScope.querySelector('#df-f4c46a43-a006-4024-a23a-66b57301d5f8 button.colab-df-quickchart');\n",
              "  quickchartButtonEl.style.display =\n",
              "    google.colab.kernel.accessAllowed ? 'block' : 'none';\n",
              "}\n",
              "\n",
              "        displayQuickchartButton(document);\n",
              "      </script>\n",
              "      <style>\n",
              "    .colab-df-container {\n",
              "      display:flex;\n",
              "      flex-wrap:wrap;\n",
              "      gap: 12px;\n",
              "    }\n",
              "\n",
              "    .colab-df-convert {\n",
              "      background-color: #E8F0FE;\n",
              "      border: none;\n",
              "      border-radius: 50%;\n",
              "      cursor: pointer;\n",
              "      display: none;\n",
              "      fill: #1967D2;\n",
              "      height: 32px;\n",
              "      padding: 0 0 0 0;\n",
              "      width: 32px;\n",
              "    }\n",
              "\n",
              "    .colab-df-convert:hover {\n",
              "      background-color: #E2EBFA;\n",
              "      box-shadow: 0px 1px 2px rgba(60, 64, 67, 0.3), 0px 1px 3px 1px rgba(60, 64, 67, 0.15);\n",
              "      fill: #174EA6;\n",
              "    }\n",
              "\n",
              "    [theme=dark] .colab-df-convert {\n",
              "      background-color: #3B4455;\n",
              "      fill: #D2E3FC;\n",
              "    }\n",
              "\n",
              "    [theme=dark] .colab-df-convert:hover {\n",
              "      background-color: #434B5C;\n",
              "      box-shadow: 0px 1px 3px 1px rgba(0, 0, 0, 0.15);\n",
              "      filter: drop-shadow(0px 1px 2px rgba(0, 0, 0, 0.3));\n",
              "      fill: #FFFFFF;\n",
              "    }\n",
              "  </style>\n",
              "\n",
              "      <script>\n",
              "        const buttonEl =\n",
              "          document.querySelector('#df-00b128af-8a20-47bb-b31f-c17ec7dca230 button.colab-df-convert');\n",
              "        buttonEl.style.display =\n",
              "          google.colab.kernel.accessAllowed ? 'block' : 'none';\n",
              "\n",
              "        async function convertToInteractive(key) {\n",
              "          const element = document.querySelector('#df-00b128af-8a20-47bb-b31f-c17ec7dca230');\n",
              "          const dataTable =\n",
              "            await google.colab.kernel.invokeFunction('convertToInteractive',\n",
              "                                                     [key], {});\n",
              "          if (!dataTable) return;\n",
              "\n",
              "          const docLinkHtml = 'Like what you see? Visit the ' +\n",
              "            '<a target=\"_blank\" href=https://colab.research.google.com/notebooks/data_table.ipynb>data table notebook</a>'\n",
              "            + ' to learn more about interactive tables.';\n",
              "          element.innerHTML = '';\n",
              "          dataTable['output_type'] = 'display_data';\n",
              "          await google.colab.output.renderOutput(dataTable, element);\n",
              "          const docLink = document.createElement('div');\n",
              "          docLink.innerHTML = docLinkHtml;\n",
              "          element.appendChild(docLink);\n",
              "        }\n",
              "      </script>\n",
              "    </div>\n",
              "  </div>\n"
            ]
          },
          "metadata": {},
          "execution_count": 2
        }
      ]
    },
    {
      "cell_type": "markdown",
      "source": [
        "Plotting close price"
      ],
      "metadata": {
        "id": "uKhl6LuNCbz8"
      }
    },
    {
      "cell_type": "code",
      "source": [
        "stock_data.isnull().sum()"
      ],
      "metadata": {
        "colab": {
          "base_uri": "https://localhost:8080/"
        },
        "id": "iVwMfxjUAFIY",
        "outputId": "9f62fe8f-c2ef-4bcf-85e4-c8c80ce65013"
      },
      "execution_count": 3,
      "outputs": [
        {
          "output_type": "execute_result",
          "data": {
            "text/plain": [
              "Date                    0\n",
              "Open                    0\n",
              "High                    0\n",
              "Low                     0\n",
              "Last                    0\n",
              "Close                   0\n",
              "Total Trade Quantity    0\n",
              "Turnover (Lacs)         0\n",
              "dtype: int64"
            ]
          },
          "metadata": {},
          "execution_count": 3
        }
      ]
    },
    {
      "cell_type": "code",
      "source": [
        "plt.figure(figsize=(13,6))\n",
        "plt.grid(True)\n",
        "plt.xlabel('Dates')\n",
        "plt.ylabel('Close Prices')\n",
        "plt.plot(stock_data['Close'])\n",
        "plt.title('Altaba Inc. closing price')\n",
        "plt.show()\n",
        "\n"
      ],
      "metadata": {
        "colab": {
          "base_uri": "https://localhost:8080/",
          "height": 457
        },
        "id": "PGTA-jOJAJV5",
        "outputId": "32d0835f-ea3c-43af-ede9-76d35db0bbf1"
      },
      "execution_count": 4,
      "outputs": [
        {
          "output_type": "display_data",
          "data": {
            "text/plain": [
              "<Figure size 1300x600 with 1 Axes>"
            ],
            "image/png": "[encoded data removed]"
          },
          "metadata": {}
        }
      ]
    },
    {
      "cell_type": "code",
      "source": [
        "stock_data.info()"
      ],
      "metadata": {
        "colab": {
          "base_uri": "https://localhost:8080/"
        },
        "id": "9ldj4guXASYE",
        "outputId": "18a4fbc1-2786-4f60-d585-487bdcea5c96"
      },
      "execution_count": 13,
      "outputs": [
        {
          "output_type": "stream",
          "name": "stdout",
          "text": [
            "<class 'pandas.core.frame.DataFrame'>\n",
            "RangeIndex: 1235 entries, 0 to 1234\n",
            "Data columns (total 8 columns):\n",
            " #   Column                Non-Null Count  Dtype  \n",
            "---  ------                --------------  -----  \n",
            " 0   Date                  1235 non-null   object \n",
            " 1   Open                  1235 non-null   float64\n",
            " 2   High                  1235 non-null   float64\n",
            " 3   Low                   1235 non-null   float64\n",
            " 4   Last                  1235 non-null   float64\n",
            " 5   Close                 1235 non-null   float64\n",
            " 6   Total Trade Quantity  1235 non-null   float64\n",
            " 7   Turnover (Lacs)       1235 non-null   float64\n",
            "dtypes: float64(7), object(1)\n",
            "memory usage: 77.3+ KB\n"
          ]
        }
      ]
    },
    {
      "cell_type": "markdown",
      "source": [
        "3. Feature Scaling\n"
      ],
      "metadata": {
        "id": "vUkEQvjoCkcD"
      }
    },
    {
      "cell_type": "code",
      "source": [
        "train_set = stock_data.iloc[:500, 1:2].values\n",
        "test_set = stock_data.iloc[500:, 1:2].values\n",
        ""
      ],
      "metadata": {
        "id": "y0wNxpcMAYmJ"
      },
      "execution_count": 6,
      "outputs": []
    },
    {
      "cell_type": "code",
      "source": [
        "sc = MinMaxScaler(feature_range = (0, 1))\n",
        "train_set = sc.fit_transform(train_set)"
      ],
      "metadata": {
        "id": "0PaNEw3wAadQ"
      },
      "execution_count": 7,
      "outputs": []
    },
    {
      "cell_type": "markdown",
      "source": [
        "4. Creating Data with Timesteps"
      ],
      "metadata": {
        "id": "Z04XH38mC2Si"
      }
    },
    {
      "cell_type": "code",
      "source": [
        "X_train = []\n",
        "y_train = []\n",
        "for i in range(60, 500):\n",
        "    X_train.append(train_set[i-60:i, 0])\n",
        "    y_train.append(train_set[i, 0])\n",
        "X_train, y_train = np.array(X_train), np.array(y_train)\n",
        "\n",
        "X_train = np.reshape(X_train, (X_train.shape[0], X_train.shape[1], 1))"
      ],
      "metadata": {
        "id": "3iJjJsEEAfPn"
      },
      "execution_count": 8,
      "outputs": []
    },
    {
      "cell_type": "markdown",
      "source": [
        "5. Building the LSTM"
      ],
      "metadata": {
        "id": "K_WohiwtDELh"
      }
    },
    {
      "cell_type": "code",
      "source": [
        "regressor = Sequential()\n",
        "\n",
        "regressor.add(LSTM(units = 50, return_sequences = True, input_shape = (X_train.shape[1], 1)))\n",
        "regressor.add(Dropout(0.2))\n",
        "\n",
        "regressor.add(LSTM(units = 50, return_sequences = True))\n",
        "regressor.add(Dropout(0.2))\n",
        "\n",
        "regressor.add(LSTM(units = 50, return_sequences = True))\n",
        "regressor.add(Dropout(0.2))\n",
        "\n",
        "regressor.add(LSTM(units = 50))\n",
        "regressor.add(Dropout(0.2))\n",
        "\n",
        "regressor.add(Dense(units = 50))\n",
        "\n",
        "regressor.compile(optimizer = 'adam', loss = 'mean_squared_error')\n",
        "\n",
        "regressor.fit(X_train, y_train, epochs = 100, batch_size = 32)"
      ],
      "metadata": {
        "colab": {
          "base_uri": "https://localhost:8080/"
        },
        "id": "Fn8OGdxQAux6",
        "outputId": "376f95d9-2df8-4fd3-d412-18bde87a5f42"
      },
      "execution_count": 9,
      "outputs": [
        {
          "output_type": "stream",
          "name": "stdout",
          "text": [
            "Epoch 1/100\n",
            "14/14 [==============================] - 11s 116ms/step - loss: 0.1896\n",
            "Epoch 2/100\n",
            "14/14 [==============================] - 2s 117ms/step - loss: 0.0676\n",
            "Epoch 3/100\n",
            "14/14 [==============================] - 2s 117ms/step - loss: 0.0321\n",
            "Epoch 4/100\n",
            "14/14 [==============================] - 2s 118ms/step - loss: 0.0230\n",
            "Epoch 5/100\n",
            "14/14 [==============================] - 2s 117ms/step - loss: 0.0210\n",
            "Epoch 6/100\n",
            "14/14 [==============================] - 2s 150ms/step - loss: 0.0183\n",
            "Epoch 7/100\n",
            "14/14 [==============================] - 2s 167ms/step - loss: 0.0165\n",
            "Epoch 8/100\n",
            "14/14 [==============================] - 2s 117ms/step - loss: 0.0148\n",
            "Epoch 9/100\n",
            "14/14 [==============================] - 2s 120ms/step - loss: 0.0144\n",
            "Epoch 10/100\n",
            "14/14 [==============================] - 2s 118ms/step - loss: 0.0137\n",
            "Epoch 11/100\n",
            "14/14 [==============================] - 2s 119ms/step - loss: 0.0138\n",
            "Epoch 12/100\n",
            "14/14 [==============================] - 2s 121ms/step - loss: 0.0137\n",
            "Epoch 13/100\n",
            "14/14 [==============================] - 2s 155ms/step - loss: 0.0119\n",
            "Epoch 14/100\n",
            "14/14 [==============================] - 2s 161ms/step - loss: 0.0110\n",
            "Epoch 15/100\n",
            "14/14 [==============================] - 2s 120ms/step - loss: 0.0106\n",
            "Epoch 16/100\n",
            "14/14 [==============================] - 2s 119ms/step - loss: 0.0099\n",
            "Epoch 17/100\n",
            "14/14 [==============================] - 2s 117ms/step - loss: 0.0099\n",
            "Epoch 18/100\n",
            "14/14 [==============================] - 2s 118ms/step - loss: 0.0096\n",
            "Epoch 19/100\n",
            "14/14 [==============================] - 2s 115ms/step - loss: 0.0097\n",
            "Epoch 20/100\n",
            "14/14 [==============================] - 2s 157ms/step - loss: 0.0090\n",
            "Epoch 21/100\n",
            "14/14 [==============================] - 2s 160ms/step - loss: 0.0086\n",
            "Epoch 22/100\n",
            "14/14 [==============================] - 2s 119ms/step - loss: 0.0081\n",
            "Epoch 23/100\n",
            "14/14 [==============================] - 2s 118ms/step - loss: 0.0085\n",
            "Epoch 24/100\n",
            "14/14 [==============================] - 2s 117ms/step - loss: 0.0081\n",
            "Epoch 25/100\n",
            "14/14 [==============================] - 2s 120ms/step - loss: 0.0090\n",
            "Epoch 26/100\n",
            "14/14 [==============================] - 2s 118ms/step - loss: 0.0080\n",
            "Epoch 27/100\n",
            "14/14 [==============================] - 2s 160ms/step - loss: 0.0072\n",
            "Epoch 28/100\n",
            "14/14 [==============================] - 2s 156ms/step - loss: 0.0071\n",
            "Epoch 29/100\n",
            "14/14 [==============================] - 2s 118ms/step - loss: 0.0065\n",
            "Epoch 30/100\n",
            "14/14 [==============================] - 2s 119ms/step - loss: 0.0067\n",
            "Epoch 31/100\n",
            "14/14 [==============================] - 2s 118ms/step - loss: 0.0065\n",
            "Epoch 32/100\n",
            "14/14 [==============================] - 2s 119ms/step - loss: 0.0066\n",
            "Epoch 33/100\n",
            "14/14 [==============================] - 2s 119ms/step - loss: 0.0071\n",
            "Epoch 34/100\n",
            "14/14 [==============================] - 4s 269ms/step - loss: 0.0068\n",
            "Epoch 35/100\n",
            "14/14 [==============================] - 3s 232ms/step - loss: 0.0057\n",
            "Epoch 36/100\n",
            "14/14 [==============================] - 4s 275ms/step - loss: 0.0062\n",
            "Epoch 37/100\n",
            "14/14 [==============================] - 3s 238ms/step - loss: 0.0055\n",
            "Epoch 38/100\n",
            "14/14 [==============================] - 4s 305ms/step - loss: 0.0057\n",
            "Epoch 39/100\n",
            "14/14 [==============================] - 2s 132ms/step - loss: 0.0063\n",
            "Epoch 40/100\n",
            "14/14 [==============================] - 2s 117ms/step - loss: 0.0055\n",
            "Epoch 41/100\n",
            "14/14 [==============================] - 2s 120ms/step - loss: 0.0068\n",
            "Epoch 42/100\n",
            "14/14 [==============================] - 2s 120ms/step - loss: 0.0057\n",
            "Epoch 43/100\n",
            "14/14 [==============================] - 2s 141ms/step - loss: 0.0054\n",
            "Epoch 44/100\n",
            "14/14 [==============================] - 3s 178ms/step - loss: 0.0056\n",
            "Epoch 45/100\n",
            "14/14 [==============================] - 2s 116ms/step - loss: 0.0054\n",
            "Epoch 46/100\n",
            "14/14 [==============================] - 3s 249ms/step - loss: 0.0051\n",
            "Epoch 47/100\n",
            "14/14 [==============================] - 3s 188ms/step - loss: 0.0059\n",
            "Epoch 48/100\n",
            "14/14 [==============================] - 2s 121ms/step - loss: 0.0050\n",
            "Epoch 49/100\n",
            "14/14 [==============================] - 3s 196ms/step - loss: 0.0049\n",
            "Epoch 50/100\n",
            "14/14 [==============================] - 2s 118ms/step - loss: 0.0050\n",
            "Epoch 51/100\n",
            "14/14 [==============================] - 2s 119ms/step - loss: 0.0052\n",
            "Epoch 52/100\n",
            "14/14 [==============================] - 2s 118ms/step - loss: 0.0050\n",
            "Epoch 53/100\n",
            "14/14 [==============================] - 2s 117ms/step - loss: 0.0049\n",
            "Epoch 54/100\n",
            "14/14 [==============================] - 2s 117ms/step - loss: 0.0044\n",
            "Epoch 55/100\n",
            "14/14 [==============================] - 2s 119ms/step - loss: 0.0050\n",
            "Epoch 56/100\n",
            "14/14 [==============================] - 3s 199ms/step - loss: 0.0042\n",
            "Epoch 57/100\n",
            "14/14 [==============================] - 2s 120ms/step - loss: 0.0043\n",
            "Epoch 58/100\n",
            "14/14 [==============================] - 2s 121ms/step - loss: 0.0046\n",
            "Epoch 59/100\n",
            "14/14 [==============================] - 2s 118ms/step - loss: 0.0045\n",
            "Epoch 60/100\n",
            "14/14 [==============================] - 2s 118ms/step - loss: 0.0044\n",
            "Epoch 61/100\n",
            "14/14 [==============================] - 2s 119ms/step - loss: 0.0045\n",
            "Epoch 62/100\n",
            "14/14 [==============================] - 2s 125ms/step - loss: 0.0045\n",
            "Epoch 63/100\n",
            "14/14 [==============================] - 3s 194ms/step - loss: 0.0038\n",
            "Epoch 64/100\n",
            "14/14 [==============================] - 2s 119ms/step - loss: 0.0044\n",
            "Epoch 65/100\n",
            "14/14 [==============================] - 2s 119ms/step - loss: 0.0040\n",
            "Epoch 66/100\n",
            "14/14 [==============================] - 3s 245ms/step - loss: 0.0043\n",
            "Epoch 67/100\n",
            "14/14 [==============================] - 2s 166ms/step - loss: 0.0042\n",
            "Epoch 68/100\n",
            "14/14 [==============================] - 2s 173ms/step - loss: 0.0048\n",
            "Epoch 69/100\n",
            "14/14 [==============================] - 2s 150ms/step - loss: 0.0041\n",
            "Epoch 70/100\n",
            "14/14 [==============================] - 2s 118ms/step - loss: 0.0038\n",
            "Epoch 71/100\n",
            "14/14 [==============================] - 2s 120ms/step - loss: 0.0048\n",
            "Epoch 72/100\n",
            "14/14 [==============================] - 2s 121ms/step - loss: 0.0038\n",
            "Epoch 73/100\n",
            "14/14 [==============================] - 2s 120ms/step - loss: 0.0041\n",
            "Epoch 74/100\n",
            "14/14 [==============================] - 2s 118ms/step - loss: 0.0036\n",
            "Epoch 75/100\n",
            "14/14 [==============================] - 2s 170ms/step - loss: 0.0042\n",
            "Epoch 76/100\n",
            "14/14 [==============================] - 2s 146ms/step - loss: 0.0037\n",
            "Epoch 77/100\n",
            "14/14 [==============================] - 3s 217ms/step - loss: 0.0037\n",
            "Epoch 78/100\n",
            "14/14 [==============================] - 3s 208ms/step - loss: 0.0036\n",
            "Epoch 79/100\n",
            "14/14 [==============================] - 3s 225ms/step - loss: 0.0034\n",
            "Epoch 80/100\n",
            "14/14 [==============================] - 4s 304ms/step - loss: 0.0034\n",
            "Epoch 81/100\n",
            "14/14 [==============================] - 2s 119ms/step - loss: 0.0031\n",
            "Epoch 82/100\n",
            "14/14 [==============================] - 2s 118ms/step - loss: 0.0035\n",
            "Epoch 83/100\n",
            "14/14 [==============================] - 2s 118ms/step - loss: 0.0033\n",
            "Epoch 84/100\n",
            "14/14 [==============================] - 2s 155ms/step - loss: 0.0031\n",
            "Epoch 85/100\n",
            "14/14 [==============================] - 2s 133ms/step - loss: 0.0033\n",
            "Epoch 86/100\n",
            "14/14 [==============================] - 3s 187ms/step - loss: 0.0033\n",
            "Epoch 87/100\n",
            "14/14 [==============================] - 2s 117ms/step - loss: 0.0033\n",
            "Epoch 88/100\n",
            "14/14 [==============================] - 2s 117ms/step - loss: 0.0035\n",
            "Epoch 89/100\n",
            "14/14 [==============================] - 3s 187ms/step - loss: 0.0030\n",
            "Epoch 90/100\n",
            "14/14 [==============================] - 2s 136ms/step - loss: 0.0030\n",
            "Epoch 91/100\n",
            "14/14 [==============================] - 4s 305ms/step - loss: 0.0030\n",
            "Epoch 92/100\n",
            "14/14 [==============================] - 3s 177ms/step - loss: 0.0030\n",
            "Epoch 93/100\n",
            "14/14 [==============================] - 2s 117ms/step - loss: 0.0033\n",
            "Epoch 94/100\n",
            "14/14 [==============================] - 2s 116ms/step - loss: 0.0033\n",
            "Epoch 95/100\n",
            "14/14 [==============================] - 2s 116ms/step - loss: 0.0036\n",
            "Epoch 96/100\n",
            "14/14 [==============================] - 2s 117ms/step - loss: 0.0027\n",
            "Epoch 97/100\n",
            "14/14 [==============================] - 2s 116ms/step - loss: 0.0031\n",
            "Epoch 98/100\n",
            "14/14 [==============================] - 3s 197ms/step - loss: 0.0030\n",
            "Epoch 99/100\n",
            "14/14 [==============================] - 2s 118ms/step - loss: 0.0036\n",
            "Epoch 100/100\n",
            "14/14 [==============================] - 2s 116ms/step - loss: 0.0029\n"
          ]
        },
        {
          "output_type": "execute_result",
          "data": {
            "text/plain": [
              "<keras.callbacks.History at 0x7cfbbfef9480>"
            ]
          },
          "metadata": {},
          "execution_count": 9
        }
      ]
    },
    {
      "cell_type": "code",
      "source": [
        "# Getting the predicted stock price of 2017\n",
        "dataset_train = stock_data.iloc[:500, 1:2]\n",
        "dataset_test = stock_data.iloc[500:, 1:2]\n",
        "dataset_total = pd.concat((dataset_train, dataset_test), axis = 0)\n",
        "inputs = dataset_total[len(dataset_total) - len(dataset_test) - 60:].values\n",
        "inputs = inputs.reshape(-1,1)\n",
        "inputs = sc.transform(inputs)\n",
        "X_test = []\n",
        "for i in range(60, 519):\n",
        "    X_test.append(inputs[i-60:i, 0])\n",
        "X_test = np.array(X_test)\n",
        "X_test = np.reshape(X_test, (X_test.shape[0], X_test.shape[1], 1))\n",
        "\n",
        "print(X_test.shape)\n",
        ""
      ],
      "metadata": {
        "colab": {
          "base_uri": "https://localhost:8080/"
        },
        "id": "LcZneE4JBDFh",
        "outputId": "ddb5e261-b55d-4a79-98bd-4eb9e6f0b9b5"
      },
      "execution_count": 10,
      "outputs": [
        {
          "output_type": "stream",
          "name": "stdout",
          "text": [
            "(459, 60, 1)\n"
          ]
        }
      ]
    },
    {
      "cell_type": "markdown",
      "source": [
        "7. Visualizing the results"
      ],
      "metadata": {
        "id": "fRVYlsGtDMig"
      }
    },
    {
      "cell_type": "code",
      "source": [
        "predicted_stock_price = regressor.predict(X_test)\n",
        "predicted_stock_price = sc.inverse_transform(predicted_stock_price)\n",
        ""
      ],
      "metadata": {
        "colab": {
          "base_uri": "https://localhost:8080/"
        },
        "id": "AwiqiEEiBX4f",
        "outputId": "fb451e13-a36b-41e9-ec49-e69c5ccf93b7"
      },
      "execution_count": 11,
      "outputs": [
        {
          "output_type": "stream",
          "name": "stdout",
          "text": [
            "15/15 [==============================] - 3s 47ms/step\n"
          ]
        }
      ]
    },
    {
      "cell_type": "code",
      "source": [
        "plt.plot(test_set, color = 'red', label = 'Test TATA Stock Price')\n",
        "plt.plot(predicted_stock_price, color = 'blue', label = 'Predicted TATA Stock Price')\n",
        "plt.title('TATA Stock Price Prediction')\n",
        "plt.xlabel('Time')\n",
        "plt.ylabel('TATA Stock Price')\n",
        "#plt.legend()\n",
        "plt.show()\n",
        ""
      ],
      "metadata": {
        "colab": {
          "base_uri": "https://localhost:8080/",
          "height": 472
        },
        "id": "Evst2pu1BZ5q",
        "outputId": "866751ab-1814-47a2-9202-112bc4bf61a7"
      },
      "execution_count": 12,
      "outputs": [
        {
          "output_type": "display_data",
          "data": {
            "text/plain": [
              "<Figure size 640x480 with 1 Axes>"
            ],
            "image/png": "[encoded data removed]"
          },
          "metadata": {}
        }
      ]
    },
    {
      "cell_type": "markdown",
      "source": [
        "Conclusion\n",
        "\n",
        "From the plot we can see that the test stock price went up while our model also predicted that the price of the stock will go up. This clearly shows how powerful LSTMs are for analyzing time series and sequential data."
      ],
      "metadata": {
        "id": "fPkabjlWBm39"
      }
    }
  ]
}